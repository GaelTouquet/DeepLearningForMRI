{
 "metadata": {
  "language_info": {
   "codemirror_mode": {
    "name": "ipython",
    "version": 3
   },
   "file_extension": ".py",
   "mimetype": "text/x-python",
   "name": "python",
   "nbconvert_exporter": "python",
   "pygments_lexer": "ipython3",
   "version": "3.7.9-final"
  },
  "orig_nbformat": 2,
  "kernelspec": {
   "name": "Python 3.7.9 64-bit ('nngpu': conda)",
   "display_name": "Python 3.7.9 64-bit ('nngpu': conda)",
   "metadata": {
    "interpreter": {
     "hash": "dce82a05f476f8a58d7048b59a51c4c76d4f564fd075bf13744563ee54d8455e"
    }
   }
  }
 },
 "nbformat": 4,
 "nbformat_minor": 2,
 "cells": [
  {
   "cell_type": "code",
   "execution_count": null,
   "metadata": {},
   "outputs": [],
   "source": [
    "import numpy as np\n",
    "import h5py\n",
    "from matplotlib import pyplot as plt\n",
    "\n",
    "f = h5py.File('D:\\\\fastMRI_DATA\\\\singlecoil_val\\\\file1000000.h5','r')\n",
    "# content of the single oil\n",
    "f.keys()"
   ]
  },
  {
   "cell_type": "code",
   "execution_count": null,
   "metadata": {},
   "outputs": [],
   "source": [
    "print(f['reconstruction_esc'].shape)\n",
    "# choose a slice\n",
    "i_img = 8\n",
    "# reconstruction_rss is the original milti-coil image from which the single-coil k-space was generated\n",
    "# truth = f['reconstruction_rss'][i_img]\n",
    "# reconstruction_esc is the fully sampled image from the single-coil k-space\n",
    "truth = f['reconstruction_esc'][i_img]"
   ]
  },
  {
   "cell_type": "code",
   "execution_count": null,
   "metadata": {},
   "outputs": [],
   "source": [
    "f.filename"
   ]
  },
  {
   "cell_type": "code",
   "execution_count": null,
   "metadata": {},
   "outputs": [],
   "source": [
    "# how to fourrier transform\n",
    "kdata = f['kspace'][i_img]\n",
    "kdata = np.fft.ifftshift(kdata)\n",
    "recon_img = np.fft.ifft2(kdata)\n",
    "recon_img = np.fft.fftshift(recon_img)\n",
    "plt.imshow(abs(recon_img),cmap='gray')"
   ]
  },
  {
   "cell_type": "code",
   "execution_count": null,
   "metadata": {},
   "outputs": [],
   "source": [
    "# images in the files are size 320x320 taken at center \n",
    "print(recon_img.shape)\n",
    "print(truth.shape)"
   ]
  },
  {
   "cell_type": "code",
   "execution_count": null,
   "metadata": {},
   "outputs": [],
   "source": [
    "# re-size recon image\n",
    "xstart = int((recon_img.shape[0]-320)/2)\n",
    "xend = int(recon_img.shape[0]-xstart)\n",
    "ystart = int((recon_img.shape[1]-320)/2)\n",
    "yend = int(recon_img.shape[1]-ystart)\n",
    "print(xstart,xend,ystart,yend)\n",
    "recon_windowed = recon_img[xstart:xend,ystart:yend]"
   ]
  },
  {
   "cell_type": "code",
   "execution_count": null,
   "metadata": {},
   "outputs": [],
   "source": [
    "plt.imshow(abs(recon_windowed),cmap='gray')"
   ]
  },
  {
   "cell_type": "code",
   "execution_count": null,
   "metadata": {},
   "outputs": [],
   "source": [
    "# There is a factor of ~485.3040 between our recon and images in the file...\n",
    "factor = np.amax(f['reconstruction_esc'][i_img])/np.amax(abs(recon_windowed))\n",
    "np.isclose(factor,485.3040)\n",
    "plt.imshow(abs(recon_windowed)*factor,cmap='gray')"
   ]
  },
  {
   "cell_type": "code",
   "execution_count": null,
   "metadata": {},
   "outputs": [],
   "source": [
    "# now a multi-coil\n",
    "mf = h5py.File('D:\\\\fastMRI_DATA\\\\multicoil_train\\\\file1000045.h5','r')\n",
    "mf.keys()"
   ]
  },
  {
   "cell_type": "code",
   "execution_count": null,
   "metadata": {},
   "outputs": [],
   "source": [
    "mf['kspace'].shape\n",
    "# it goes (# of slices, # of coils, # pixels, #pixels)"
   ]
  },
  {
   "cell_type": "code",
   "execution_count": null,
   "metadata": {},
   "outputs": [],
   "source": [
    "from utils.fastMRI_utils import ifft, crop, rss\n",
    "imgs = []\n",
    "for slice in mf['kspace']:\n",
    "    tmp_imgs = []\n",
    "    for coil in slice:\n",
    "        img = ifft(coil)\n",
    "        img = crop(img)\n",
    "        tmp_imgs.append(img)\n",
    "    # img = np.zeros(tmp_imgs[0].shape,dtype=np.complex128)\n",
    "    imgs.append(rss(np.array(tmp_imgs)))\n",
    "imgs = np.array(imgs)"
   ]
  },
  {
   "cell_type": "code",
   "execution_count": null,
   "metadata": {},
   "outputs": [],
   "source": [
    "bools = []\n",
    "for i, img in enumerate(imgs):\n",
    "    bools.append(np.isclose(np.amax(img)*485.3040174057125,np.amax(mf['reconstruction_rss'][i])))\n",
    "all(bools)"
   ]
  },
  {
   "cell_type": "code",
   "execution_count": null,
   "metadata": {},
   "outputs": [],
   "source": [
    "plt.imshow(imgs[15],cmap='gray')"
   ]
  },
  {
   "cell_type": "code",
   "execution_count": null,
   "metadata": {},
   "outputs": [],
   "source": [
    "plt.imshow(mf['reconstruction_rss'][15],cmap='gray')"
   ]
  },
  {
   "cell_type": "code",
   "execution_count": null,
   "metadata": {},
   "outputs": [],
   "source": [
    "np.amax(mf['reconstruction_rss'][15])/np.amax(imgs[15])"
   ]
  },
  {
   "cell_type": "code",
   "execution_count": null,
   "metadata": {},
   "outputs": [],
   "source": []
  }
 ]
}