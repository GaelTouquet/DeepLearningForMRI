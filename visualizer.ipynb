{
 "metadata": {
  "language_info": {
   "codemirror_mode": {
    "name": "ipython",
    "version": 3
   },
   "file_extension": ".py",
   "mimetype": "text/x-python",
   "name": "python",
   "nbconvert_exporter": "python",
   "pygments_lexer": "ipython3",
   "version": "3.7.9-final"
  },
  "orig_nbformat": 2,
  "kernelspec": {
   "name": "Python 3.7.9 64-bit",
   "display_name": "Python 3.7.9 64-bit",
   "metadata": {
    "interpreter": {
     "hash": "dce82a05f476f8a58d7048b59a51c4c76d4f564fd075bf13744563ee54d8455e"
    }
   }
  }
 },
 "nbformat": 4,
 "nbformat_minor": 2,
 "cells": [
  {
   "cell_type": "code",
   "execution_count": null,
   "metadata": {},
   "outputs": [],
   "source": [
    "from matplotlib import pyplot as plt\n",
    "import h5py\n",
    "import numpy as np"
   ]
  },
  {
   "cell_type": "code",
   "execution_count": null,
   "metadata": {},
   "outputs": [],
   "source": [
    "file_path = 'D:\\\\NN_DATA\\\\singlecoil_acc4_vistest\\\\train\\\\file1000023.h5'\n",
    "# agent_path = 'D:\\\\NN_DATA\\\\singlecoil_acc5rand\\\\agent'\n",
    "k = 20"
   ]
  },
  {
   "cell_type": "code",
   "execution_count": null,
   "metadata": {},
   "outputs": [],
   "source": [
    "f = h5py.File(file_path,'r')\n",
    "plt.imshow(f['inputs'][k],cmap='gray')"
   ]
  },
  {
   "cell_type": "code",
   "execution_count": null,
   "metadata": {},
   "outputs": [],
   "source": [
    "\n",
    "plt.imshow(f['outputs'][k],cmap='gray')"
   ]
  },
  {
   "cell_type": "code",
   "execution_count": null,
   "metadata": {},
   "outputs": [],
   "source": [
    "# from tensorflow import keras\n",
    "\n",
    "# def ssim(y1,y2):\n",
    "#     return tf.image.ssim(y1,y2,max_val=255)\n",
    "\n",
    "# model = keras.models.load_model('D:\\\\NN_DATA\\\\multicoil_acc10rand\\\\agent\\\\',compile=False)\n",
    "# model.compile(loss=\"mean_squared_error\",\n",
    "#                optimizer='adam')\n",
    "# test = model.predict(np.reshape(f['inputs'][k],(1,320,320,1)))\n",
    "# plt.imshow(np.reshape(test,(320,320)))\n",
    "# plt.imshow(f['tests'][k],cmap='gray')"
   ]
  },
  {
   "cell_type": "code",
   "execution_count": null,
   "metadata": {},
   "outputs": [],
   "source": [
    "# f['tests'][k]"
   ]
  },
  {
   "cell_type": "code",
   "execution_count": null,
   "metadata": {},
   "outputs": [],
   "source": []
  }
 ]
}